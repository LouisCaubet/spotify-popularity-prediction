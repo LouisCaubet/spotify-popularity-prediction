{
  "cells": [
    {
      "cell_type": "markdown",
      "metadata": {
        "id": "U6t4mllXW4PI"
      },
      "source": [
        "# Spotify song popularity prediction\n",
        "\n",
        "by Louis Caubet, 2022. "
      ]
    },
    {
      "cell_type": "code",
      "execution_count": 32,
      "metadata": {
        "id": "-YGcuk26WxGC"
      },
      "outputs": [],
      "source": [
        "import pandas as pd\n",
        "import torch\n",
        "from torch.utils.data import Dataset, random_split, DataLoader\n",
        "from torch import nn\n",
        "\n",
        "import time\n",
        "from math import sqrt, exp, isnan\n",
        "import random\n",
        "import matplotlib.pyplot as plt\n",
        "import numpy as np\n",
        "\n",
        "from captum.attr import IntegratedGradients\n",
        "from captum.attr import LayerConductance\n",
        "from captum.attr import NeuronConductance\n",
        "\n",
        "PATH_TO_DATASETS = \"\""
      ]
    },
    {
      "cell_type": "markdown",
      "metadata": {
        "id": "W6BRl-_La0cl"
      },
      "source": [
        "For this project, we will use a simple dense neural network. Let's start by building it and defining training and testing functions. We will then train it with different types of preprocessing and compare the results."
      ]
    },
    {
      "cell_type": "markdown",
      "metadata": {
        "id": "Eks5bqSlb6ns"
      },
      "source": [
        "## Build the neural network"
      ]
    },
    {
      "cell_type": "markdown",
      "metadata": {
        "id": "ySK-CV99D6KC"
      },
      "source": [
        "Our network is a small dense network using 3 linear layers, activated with the ReLU function. We apply the sigmoid function on the output to get a result between 0 and 1, as expected.\n",
        "\n",
        "Training is fairly standard: SGD with MSE loss function. We try to run it on CUDA if possible. \n",
        "\n",
        "We print the final RMSE loss as result of the testing phase. "
      ]
    },
    {
      "cell_type": "code",
      "execution_count": 2,
      "metadata": {
        "colab": {
          "base_uri": "https://localhost:8080/"
        },
        "id": "Lkt4RgF6b-eZ",
        "outputId": "c034c60a-fc83-4f36-e7b4-ab7b511c41fa"
      },
      "outputs": [
        {
          "name": "stdout",
          "output_type": "stream",
          "text": [
            "cpu\n"
          ]
        }
      ],
      "source": [
        "print(\"Running on device: \" + 'cuda' if torch.cuda.is_available() else 'cpu')\n",
        "device = torch.device('cuda' if torch.cuda.is_available() else 'cpu')\n",
        "\n",
        "class Network(nn.Module):\n",
        "  def __init__(self, number_of_inputs):\n",
        "    super(Network, self).__init__()\n",
        "    self.sequence = nn.Sequential(\n",
        "        nn.Linear(number_of_inputs, 32),\n",
        "        nn.ReLU(),\n",
        "        nn.Linear(32, 16),\n",
        "        nn.ReLU(),\n",
        "        nn.Linear(16, 1),\n",
        "        nn.Sigmoid()\n",
        "    )\n",
        "\n",
        "  def forward(self, x):\n",
        "    return self.sequence(x)\n",
        "\n",
        "  def train(self, batch_size, learning_rate, epochs, dataset):\n",
        "    size = len(dataset)\n",
        "    dataloader = DataLoader(dataset, batch_size, shuffle=True)\n",
        "    loss_fn = nn.MSELoss()\n",
        "    optimizer = torch.optim.SGD(self.parameters(), lr=learning_rate)\n",
        "\n",
        "    for epoch in range(epochs):\n",
        "      for item in dataloader:\n",
        "        X = item[0]\n",
        "        y = item[1]\n",
        "        X = X.to(device)\n",
        "        y = y.to(device)\n",
        "        pred = self(X)\n",
        "        loss = loss_fn(pred, y)\n",
        "\n",
        "        optimizer.zero_grad()\n",
        "        loss.backward()\n",
        "        optimizer.step()\n",
        "\n",
        "        loss = loss.item()\n",
        "\n",
        "      print(\"Training: epoch \", epoch+1, \"/\", epochs, \": loss=\", sqrt(loss))\n",
        "\n",
        "  def test_loop(self, test_dataset, loss_fn):\n",
        "    dataloader = DataLoader(test_dataset, 64, shuffle=True)\n",
        "    size = len(dataloader.dataset)\n",
        "    num_batches = len(dataloader)\n",
        "    test_loss = 0\n",
        "\n",
        "    with torch.no_grad():\n",
        "      for item in dataloader:\n",
        "        X = item[0]\n",
        "        y = item[1]\n",
        "        X = X.to(device)\n",
        "        y = y.to(device)\n",
        "        pred = self(X)\n",
        "        test_loss += loss_fn(pred, y).item()\n",
        "\n",
        "    test_loss /= num_batches\n",
        "\n",
        "    print(\"Test results:\")\n",
        "    print(\"Average RMSE loss: \", sqrt(test_loss))\n",
        "\n",
        "    return test_loss"
      ]
    },
    {
      "cell_type": "code",
      "execution_count": 3,
      "metadata": {
        "id": "004K0HiZeLvl"
      },
      "outputs": [],
      "source": [
        "def train_network(dataset_train, dataset_test, number_of_inputs):\n",
        "  model = Network(number_of_inputs)\n",
        "  model = model.to(device)\n",
        "\n",
        "  print(\"Starting training...\")\n",
        "  start = time.time()\n",
        "\n",
        "  model.train(64, 0.01, 10, dataset_train)\n",
        "\n",
        "  print(\"Training complete!\")\n",
        "  print(\"Training time: \" + str(time.time() - start))\n",
        "\n",
        "\n",
        "  print(\"Starting test phase...\")\n",
        "  start = time.time()\n",
        "  model.test_loop(dataset_test, nn.MSELoss())\n",
        "\n",
        "  print(\"Testing complete!\")\n",
        "  print(\"Test time: \" + str(time.time() - start))\n",
        "\n",
        "  return model"
      ]
    },
    {
      "cell_type": "markdown",
      "metadata": {
        "id": "Wl-xf8GtftEk"
      },
      "source": [
        "### Setup Captum to visualize importances in the model"
      ]
    },
    {
      "cell_type": "code",
      "execution_count": 33,
      "metadata": {
        "id": "294ONU_zfwgE"
      },
      "outputs": [],
      "source": [
        "# Helper method to print importances and visualize distribution\n",
        "# Source: https://captum.ai/tutorials/Titanic_Basic_Interpret\n",
        "def plot_importances(feature_names, importances, title=\"Average Feature Importances\", plot=True, axis_title=\"Features\"):\n",
        "    print(title)\n",
        "    for i in range(len(feature_names)):\n",
        "        print(feature_names[i], \": \", '%.3f'%(importances[i]))\n",
        "    x_pos = (np.arange(len(feature_names)))\n",
        "    if plot:\n",
        "        plt.figure(figsize=(12,6))\n",
        "        plt.bar(x_pos, importances, align='center')\n",
        "        plt.xticks(x_pos, feature_names, wrap=True)\n",
        "        plt.xlabel(axis_title)\n",
        "        plt.title(title)\n",
        "\n",
        "def visualize_importances(model, dataset, feature_names):\n",
        "  ig = IntegratedGradients(model)\n",
        "  dataloader = DataLoader(dataset, 64, shuffle=True)\n",
        "  item = next(iter(dataloader))\n",
        "  input = item[0]\n",
        "  input.requires_grad_()\n",
        "  attr, delta = ig.attribute(input,target=0, return_convergence_delta=True)\n",
        "  attr = attr.detach().numpy()\n",
        "\n",
        "  plot_importances(feature_names, np.mean(attr, axis=0))"
      ]
    },
    {
      "cell_type": "markdown",
      "metadata": {
        "id": "j06vJe8waeyh"
      },
      "source": [
        "## Basic approach: minimal preprocessing"
      ]
    },
    {
      "cell_type": "markdown",
      "metadata": {
        "id": "6y3-npynXBzr"
      },
      "source": [
        "### Dataset loading and preprocessing"
      ]
    },
    {
      "cell_type": "markdown",
      "metadata": {
        "id": "7chPqmU7CcyI"
      },
      "source": [
        "We use the \"Spotify Audio Features\" dataset, available on [Kaggle](https://www.kaggle.com/tomigelo/spotify-audio-features/version/3). Download the *.csv files next to this notebook before running the next cells.\n",
        "\n",
        "The following cell preprocesses the CSV file into a PyTorch dataset. The inputs are tensors of fields acousticness, danceability, duration, energy, instrumentalness, key, liveness, loudness, mode, speechiness, tempo, and valence. The output is the popularity of the song.\n",
        "\n",
        "Note that there might be duplicates between files 1 and 2, with different outputs. This should not impact performance, as having duplicates in the training set is no big deal with neural networks, and the expected outputs, though different, should be fairly close.\n",
        "\n",
        "These fields are normalized between 0 and 1. For key, tempo, year and popularity, we use linear normalization. I have pre-computed the extreme values for the columns where this information is needed. For loudness, we apply the sigmoid function, as a difference in loudness between -20 and -60 is way less significant than between 2 and -2.\n",
        "\n",
        "We then randomly split the resulting dataset into train and test sets, in an 80-20 ratio."
      ]
    },
    {
      "cell_type": "code",
      "execution_count": 35,
      "metadata": {
        "colab": {
          "base_uri": "https://localhost:8080/"
        },
        "id": "SzFdOCtWXTSU",
        "outputId": "f5bac8ac-7a10-4431-ba34-da87fddcb0df"
      },
      "outputs": [
        {
          "name": "stdout",
          "output_type": "stream",
          "text": [
            "Loading and preprocessing dataset...\n",
            "Dataset loading and preprocessing complete!\n",
            "Execution time:  44.98452925682068 s\n"
          ]
        }
      ],
      "source": [
        "class SpotifyDataset(Dataset):\n",
        "  def __init__(self, audio_features):\n",
        "    self.dataset = []\n",
        "\n",
        "    for index, row in audio_features.iterrows():\n",
        "      [input, output] = self.preprocess(row)\n",
        "      self.dataset.append([torch.Tensor(input), torch.Tensor(output)])\n",
        "\n",
        "  def preprocess(self, entry):\n",
        "    input = [entry['acousticness'], \n",
        "             entry['danceability'],\n",
        "             entry['duration_ms'] / 5610020,\n",
        "             entry['energy'], \n",
        "             entry['instrumentalness'], \n",
        "             entry['key'] / 11, \n",
        "             entry['liveness'], \n",
        "             1/(1+exp(-entry['loudness'])), \n",
        "             entry['mode'],\n",
        "             entry['speechiness'], \n",
        "             entry['tempo'] / 250, \n",
        "             entry['valence']] \n",
        "    \n",
        "    output = [entry['popularity'] / 100]\n",
        "\n",
        "    return [input, output]\n",
        "\n",
        "  def __getitem__(self, index):\n",
        "    return self.dataset[index]\n",
        "\n",
        "  def __len__(self):\n",
        "    return len(self.dataset)\n",
        "\n",
        "def load_csv():\n",
        "  csv1 = pd.read_csv(PATH_TO_DATASETS + \"SpotifyAudioFeaturesNov2018.csv\")\n",
        "  csv2 = pd.read_csv(PATH_TO_DATASETS + \"SpotifyAudioFeaturesApril2019.csv\")\n",
        "  return pd.concat([csv1, csv2])\n",
        "\n",
        "print(\"Loading and preprocessing dataset...\")\n",
        "start = time.time()\n",
        "\n",
        "dataset = SpotifyDataset(load_csv())\n",
        "train_length = round(0.8*len(dataset))\n",
        "[dataset_train, dataset_test] = random_split(dataset, [train_length, len(dataset) - train_length])\n",
        "\n",
        "print(\"Dataset loading and preprocessing complete!\")\n",
        "print(\"Execution time: \", time.time() - start, \"s\")"
      ]
    },
    {
      "cell_type": "markdown",
      "metadata": {
        "id": "kh3fFDrXeJaz"
      },
      "source": [
        "### Run training and eval"
      ]
    },
    {
      "cell_type": "markdown",
      "metadata": {
        "id": "RdemZ4kFEljM"
      },
      "source": [
        "With this preprocessing, we achieve a 0.18 RMSE loss, which is good (on average, we're at a distance of 18 of the correct popularity, rated on 100), but we can probably improve this by adding crucial parameters to our dataset."
      ]
    },
    {
      "cell_type": "code",
      "execution_count": 27,
      "metadata": {
        "colab": {
          "base_uri": "https://localhost:8080/"
        },
        "id": "rnjcK7E2b8es",
        "outputId": "67d63b78-c9b5-483d-a589-92271ff92603"
      },
      "outputs": [
        {
          "name": "stdout",
          "output_type": "stream",
          "text": [
            "Starting training...\n",
            "Training: epoch  1 / 10 : loss= 0.18944967404398158\n",
            "Training: epoch  2 / 10 : loss= 0.2175328589424964\n",
            "Training: epoch  3 / 10 : loss= 0.20145412200193424\n",
            "Training: epoch  4 / 10 : loss= 0.1732144076535831\n",
            "Training: epoch  5 / 10 : loss= 0.18769136240094336\n",
            "Training: epoch  6 / 10 : loss= 0.19089749902128053\n",
            "Training: epoch  7 / 10 : loss= 0.22378145300508775\n",
            "Training: epoch  8 / 10 : loss= 0.17380008578521963\n",
            "Training: epoch  9 / 10 : loss= 0.19534770648265087\n",
            "Training: epoch  10 / 10 : loss= 0.16907597599156782\n",
            "Training complete!\n",
            "Training time: 31.366676568984985\n",
            "Starting test phase...\n",
            "Test results:\n",
            "Average RMSE loss:  0.18396093820753742\n",
            "Testing complete!\n",
            "Test time: 0.48049092292785645\n"
          ]
        }
      ],
      "source": [
        "model1 = train_network(dataset_train, dataset_test, 12)"
      ]
    },
    {
      "cell_type": "markdown",
      "metadata": {
        "id": "QQtNuz8OgUg9"
      },
      "source": [
        "### Visualize importance of parameters"
      ]
    },
    {
      "cell_type": "code",
      "execution_count": 36,
      "metadata": {
        "colab": {
          "base_uri": "https://localhost:8080/",
          "height": 630
        },
        "id": "A71FpOLmgXvL",
        "outputId": "03981051-73ab-43af-c286-1bdb4851ecb3"
      },
      "outputs": [
        {
          "name": "stdout",
          "output_type": "stream",
          "text": [
            "Average Feature Importances\n",
            "acousticness :  -0.013\n",
            "danceability :  0.023\n",
            "duration :  -0.000\n",
            "energy :  -0.001\n",
            "instrumentalness :  -0.019\n",
            "key :  -0.002\n",
            "liveness :  -0.001\n",
            "loudness :  -0.000\n",
            "mode :  -0.008\n",
            "speechiness :  -0.005\n",
            "tempo :  -0.001\n",
            "valence :  -0.006\n"
          ]
        },
        {
          "data": {
            "image/png": "[encoded data removed]",
            "text/plain": [
              "<Figure size 864x432 with 1 Axes>"
            ]
          },
          "metadata": {
            "needs_background": "light"
          },
          "output_type": "display_data"
        }
      ],
      "source": [
        "feature_names = [\"acousticness\", \"danceability\", \"duration\", \"energy\", \n",
        "                 \"instrumentalness\", \"key\", \"liveness\", \"loudness\", \"mode\",\n",
        "                 \"speechiness\", \"tempo\", \"valence\"]\n",
        "visualize_importances(model1, dataset_test, feature_names)"
      ]
    },
    {
      "cell_type": "markdown",
      "metadata": {
        "id": "XHDfVPz0sD5x"
      },
      "source": [
        "## Could the release date be an interesting parameter?"
      ]
    },
    {
      "cell_type": "markdown",
      "metadata": {
        "id": "1paFGyeusO6o"
      },
      "source": [
        "Intuitively, the release year of a song plays an important role in its popularity. Unfortunately, that information is not contained in the dataset. \n",
        "\n",
        "Luckily, another dataset, \"Spotify-Data 1921-2020\" on [Kaggle](https://www.kaggle.com/ektanegi/spotifydata-19212020), provides that information. Let's combine the datasets to include it!\n",
        "\n",
        "Download the data.csv file next to this notebook before running the next cells."
      ]
    },
    {
      "cell_type": "code",
      "execution_count": 37,
      "metadata": {
        "colab": {
          "base_uri": "https://localhost:8080/"
        },
        "id": "6Cmlfpjbttek",
        "outputId": "5dc411a7-ddde-459e-ade6-db427a1eb967"
      },
      "outputs": [
        {
          "name": "stdout",
          "output_type": "stream",
          "text": [
            "Loading and preprocessing dataset...\n",
            "Found year information for 34.6869876738114 % of entries\n",
            "Dataset loading and preprocessing complete!\n",
            "Execution time:  50.07131338119507 s\n"
          ]
        }
      ],
      "source": [
        "class SpotifyDatasetWithYear(SpotifyDataset):\n",
        "  def __init__(self, audio_features):\n",
        "    \n",
        "    audio_features = self.add_year(audio_features)\n",
        "\n",
        "    self.years_found = 0\n",
        "    self.dataset = []\n",
        "\n",
        "    for index, row in audio_features.iterrows():\n",
        "      [input, output] = self.preprocess(row)\n",
        "      self.dataset.append([torch.Tensor(input), torch.Tensor(output)])\n",
        "\n",
        "  def add_year(self, audio_features):\n",
        "    spotify_data_year = pd.read_csv(PATH_TO_DATASETS + \"data.csv\")\n",
        "\n",
        "    # Merge year on track id\n",
        "    pd_dataframe = audio_features.merge(\n",
        "      spotify_data_year[[\"id\", \"year\"]], \n",
        "      left_on=\"track_id\", \n",
        "      right_on=\"id\", \n",
        "      how=\"left\"\n",
        "    )\n",
        "\n",
        "    # Modify second dataset to transform list of artists into only one artist\n",
        "    spotify_data_year[\"artists\"] = spotify_data_year[\"artists\"].apply(\n",
        "      lambda x: x.split(\"',\")[0].replace(\"['\", \"\").replace(\"']\", \"\")\n",
        "    )\n",
        "\n",
        "    # Merge approx year on artist name as fallback\n",
        "    pd_dataframe = pd_dataframe.merge(\n",
        "      spotify_data_year[[\"artists\", \"year\"]].groupby(\"artists\").mean(), \n",
        "      left_on=\"artist_name\",\n",
        "      right_on=\"artists\", \n",
        "      how=\"left\",\n",
        "      suffixes=(\"_exact\", \"_approx\")\n",
        "    )\n",
        "\n",
        "    return pd_dataframe\n",
        "\n",
        "  def preprocess(self, entry):\n",
        "    [input, output] = super().preprocess(entry)\n",
        "\n",
        "    if not isnan(entry['year_exact']):\n",
        "      input.append((entry['year_exact']-1921) / (2020-1921))\n",
        "      self.years_found += 1\n",
        "    elif not isnan(entry[\"year_approx\"]):\n",
        "      input.append((entry['year_approx']-1921) / (2020-1921))\n",
        "      self.years_found += 1\n",
        "    else:\n",
        "      input.append(-1)\n",
        "\n",
        "    return [input, output]\n",
        "\n",
        "  def __getitem__(self, index):\n",
        "    return self.dataset[index]\n",
        "\n",
        "  def __len__(self):\n",
        "    return len(self.dataset)\n",
        "\n",
        "print(\"Loading and preprocessing dataset...\")\n",
        "start = time.time()\n",
        "\n",
        "dataset = SpotifyDatasetWithYear(load_csv())\n",
        "print(\"Found year information for\", dataset.years_found / len(dataset) * 100, \"% of entries\")\n",
        "train_length = round(0.8*len(dataset))\n",
        "[dataset_train, dataset_test] = random_split(dataset, [train_length, len(dataset) - train_length])\n",
        "\n",
        "print(\"Dataset loading and preprocessing complete!\")\n",
        "print(\"Execution time: \", time.time() - start, \"s\")"
      ]
    },
    {
      "cell_type": "code",
      "execution_count": 38,
      "metadata": {
        "colab": {
          "base_uri": "https://localhost:8080/"
        },
        "id": "WIq6guibzDOX",
        "outputId": "dd41b55a-dc58-4107-fba3-cb8bb6f27e25"
      },
      "outputs": [
        {
          "name": "stdout",
          "output_type": "stream",
          "text": [
            "Starting training...\n",
            "Training: epoch  1 / 10 : loss= 0.18414454322048257\n",
            "Training: epoch  2 / 10 : loss= 0.16609062295950408\n",
            "Training: epoch  3 / 10 : loss= 0.14631969095619815\n",
            "Training: epoch  4 / 10 : loss= 0.16893683395720172\n",
            "Training: epoch  5 / 10 : loss= 0.17077509107242458\n",
            "Training: epoch  6 / 10 : loss= 0.1592153614533399\n",
            "Training: epoch  7 / 10 : loss= 0.18083828953537467\n",
            "Training: epoch  8 / 10 : loss= 0.1763291033733303\n",
            "Training: epoch  9 / 10 : loss= 0.16731825443777376\n",
            "Training: epoch  10 / 10 : loss= 0.14177531401593219\n",
            "Training complete!\n",
            "Training time: 29.995652437210083\n",
            "Starting test phase...\n",
            "Test results:\n",
            "Average RMSE loss:  0.16924664480835466\n",
            "Testing complete!\n",
            "Test time: 0.4078481197357178\n"
          ]
        }
      ],
      "source": [
        "model2 = train_network(dataset_train, dataset_test, 13)"
      ]
    },
    {
      "cell_type": "markdown",
      "metadata": {
        "id": "7qDf16rI-a66"
      },
      "source": [
        "And... we can only notice a small improvement. (0.17 compared to the previous 0.18). The release date information is therefore relevant, but it's not THE major parameter we're looking for. The fact that we could only retrieve date information for a third of the entries surely doesn't help."
      ]
    },
    {
      "cell_type": "markdown",
      "metadata": {
        "id": "GE0I1kYPg2Ol"
      },
      "source": [
        "### Visualize importances"
      ]
    },
    {
      "cell_type": "code",
      "execution_count": 39,
      "metadata": {
        "colab": {
          "base_uri": "https://localhost:8080/",
          "height": 647
        },
        "id": "UVN9LZGdg56A",
        "outputId": "f5f90f2e-05ee-4ed0-9a90-06e9f698f652"
      },
      "outputs": [
        {
          "name": "stdout",
          "output_type": "stream",
          "text": [
            "Average Feature Importances\n",
            "acousticness :  -0.024\n",
            "danceability :  0.020\n",
            "duration :  0.001\n",
            "energy :  0.022\n",
            "instrumentalness :  -0.014\n",
            "key :  -0.001\n",
            "liveness :  -0.008\n",
            "loudness :  0.000\n",
            "mode :  -0.012\n",
            "speechiness :  -0.002\n",
            "tempo :  -0.000\n",
            "valence :  -0.019\n",
            "year :  -0.017\n"
          ]
        },
        {
          "data": {
            "image/png": "[encoded data removed]",
            "text/plain": [
              "<Figure size 864x432 with 1 Axes>"
            ]
          },
          "metadata": {
            "needs_background": "light"
          },
          "output_type": "display_data"
        }
      ],
      "source": [
        "feature_names = [\"acousticness\", \"danceability\", \"duration\", \"energy\", \n",
        "                 \"instrumentalness\", \"key\", \"liveness\", \"loudness\", \"mode\",\n",
        "                 \"speechiness\", \"tempo\", \"valence\", \"year\"]\n",
        "visualize_importances(model2, dataset_test, feature_names)"
      ]
    },
    {
      "cell_type": "markdown",
      "metadata": {
        "id": "wTKOcGtZ-_aI"
      },
      "source": [
        "## And what about the artist?"
      ]
    },
    {
      "cell_type": "markdown",
      "metadata": {
        "id": "VkA9vAYu_JC_"
      },
      "source": [
        "In the music world, once you've made a name for yourself, all your songs will probably be at least slightly popular. If you want to predict the popularity of a song from this dataset, you would definitely consider the artist, and predict a higher popularity for an Ariana Grande song than some unknown artist, all other things equal.\n",
        "\n",
        "We need to give a way to our model to take that into account. If we directly gave the artist name to the network, it wouldn't be able to learn from it, as there is no pattern in popular artist's name... So let's start by computing an expected popularity for an artist from the information contained in the training dataset (the average popularity of their songs). Then we'll give that information to the network."
      ]
    },
    {
      "cell_type": "code",
      "execution_count": 41,
      "metadata": {
        "colab": {
          "base_uri": "https://localhost:8080/"
        },
        "id": "Scq-4-W0AomQ",
        "outputId": "81c1dbe3-3ddb-4289-9783-10e078720f56"
      },
      "outputs": [
        {
          "name": "stdout",
          "output_type": "stream",
          "text": [
            "Loading and preprocessing dataset...\n",
            "Tracks of the test set with artist unknown: 441 of 12286\n",
            "Dataset loading and preprocessing complete!\n",
            "Execution time:  42.16477012634277 s\n"
          ]
        }
      ],
      "source": [
        "artist_popularities = None\n",
        "\n",
        "class SpotifyDatasetWithArtist(SpotifyDataset):\n",
        "  def __init__(self, audio_features, is_train):\n",
        "\n",
        "    # If this is the training dataset, compute artist popularities and store it\n",
        "    # in the global variable. Otherwise, retrieve that global variable to merge \n",
        "    # it with our audio features.\n",
        "    global artist_popularities\n",
        "    if is_train:\n",
        "      artist_popularities = audio_features[[\"artist_name\", \"popularity\"]].groupby(\"artist_name\").mean()\n",
        "\n",
        "    audio_features = audio_features.merge(\n",
        "      artist_popularities, \n",
        "      left_on=\"artist_name\", \n",
        "      right_on=\"artist_name\", \n",
        "      how=\"left\",\n",
        "      suffixes=(\"\", \"_artist\")\n",
        "    )\n",
        "\n",
        "    self.dataset = []\n",
        "    self.tracks_with_unknown_artist = 0\n",
        "\n",
        "    for index, row in audio_features.iterrows():\n",
        "      self.dataset.append(self.preprocess(row))\n",
        "\n",
        "  def preprocess(self, entry):\n",
        "    [input, output] = super().preprocess(entry)\n",
        "\n",
        "    if not isnan(entry['popularity_artist']):\n",
        "      input.append(entry['popularity_artist'] / 100)\n",
        "    else:\n",
        "      # Why 0?\n",
        "      # If an artist is unknown in the training set, we could expect them to be\n",
        "      # less popular... \n",
        "      input.append(0)\n",
        "      self.tracks_with_unknown_artist+=1\n",
        "\n",
        "    return [torch.Tensor(input), torch.Tensor(output), entry[\"artist_name\"]]\n",
        "\n",
        "  def __getitem__(self, index):\n",
        "    return self.dataset[index]\n",
        "\n",
        "  def __len__(self):\n",
        "    return len(self.dataset)\n",
        "\n",
        "print(\"Loading and preprocessing dataset...\")\n",
        "start = time.time()\n",
        "\n",
        "audio_features = load_csv()\n",
        "\n",
        "# Do the train-test split using pandas\n",
        "# We have to do it that way to be able to use pandas powerful features to\n",
        "# compute artist's mean popularity in the training dataset\n",
        "audio_features_train = audio_features.sample(frac=0.8)\n",
        "audio_features_test = audio_features.drop(audio_features_train.index)\n",
        "\n",
        "dataset_train = SpotifyDatasetWithArtist(audio_features_train, True)\n",
        "dataset_test = SpotifyDatasetWithArtist(audio_features_test, False)\n",
        "\n",
        "print(\"Tracks of the test set with artist unknown:\", \n",
        "  dataset_test.tracks_with_unknown_artist, \"of\", len(dataset_test))\n",
        "\n",
        "print(\"Dataset loading and preprocessing complete!\")\n",
        "print(\"Execution time: \", time.time() - start, \"s\")"
      ]
    },
    {
      "cell_type": "code",
      "execution_count": 42,
      "metadata": {
        "colab": {
          "base_uri": "https://localhost:8080/"
        },
        "id": "RsM6vY5EGTQj",
        "outputId": "f98f9c65-61f5-4a1b-df46-46739030956d"
      },
      "outputs": [
        {
          "name": "stdout",
          "output_type": "stream",
          "text": [
            "Starting training...\n",
            "Training: epoch  1 / 10 : loss= 0.19746461595076648\n",
            "Training: epoch  2 / 10 : loss= 0.14203206752420117\n",
            "Training: epoch  3 / 10 : loss= 0.18419510179177453\n",
            "Training: epoch  4 / 10 : loss= 0.15780196721270387\n",
            "Training: epoch  5 / 10 : loss= 0.16478188357167203\n",
            "Training: epoch  6 / 10 : loss= 0.15327627922498652\n",
            "Training: epoch  7 / 10 : loss= 0.14444242144799757\n",
            "Training: epoch  8 / 10 : loss= 0.09787890324507141\n",
            "Training: epoch  9 / 10 : loss= 0.08290578237528223\n",
            "Training: epoch  10 / 10 : loss= 0.08319882406392494\n",
            "Training complete!\n",
            "Training time: 28.89960217475891\n",
            "Starting test phase...\n",
            "Test results:\n",
            "Average RMSE loss:  0.11747234793062132\n",
            "Testing complete!\n",
            "Test time: 0.0924828052520752\n"
          ]
        }
      ],
      "source": [
        "model3 = train_network(dataset_train, dataset_test, 13)"
      ]
    },
    {
      "cell_type": "markdown",
      "metadata": {
        "id": "6ktajkczLQBR"
      },
      "source": [
        "And the improvement is significant! Using the information on the artist, we got from 0.17 down to 0.11 mean error!\n",
        "\n",
        "You can use the cell below to save the model, and the cell in \"A few examples\" to visualize a few predictions of the network."
      ]
    },
    {
      "cell_type": "code",
      "execution_count": null,
      "metadata": {
        "colab": {
          "base_uri": "https://localhost:8080/"
        },
        "id": "hjZOHwhhNbm2",
        "outputId": "85dbe78c-243b-451a-b334-c8b3fb0d01dd"
      },
      "outputs": [
        {
          "name": "stdout",
          "output_type": "stream",
          "text": [
            "Saving model...\n",
            "Model saved!\n"
          ]
        }
      ],
      "source": [
        "print(\"Saving model...\")\n",
        "torch.save(model3.state_dict(), 'model_weights.pth')\n",
        "print(\"Model saved!\")"
      ]
    },
    {
      "cell_type": "markdown",
      "metadata": {
        "id": "Z5e1GNxnhvhM"
      },
      "source": [
        "### Visualize importances"
      ]
    },
    {
      "cell_type": "code",
      "execution_count": 43,
      "metadata": {
        "colab": {
          "base_uri": "https://localhost:8080/",
          "height": 647
        },
        "id": "Av67iWHAhxq-",
        "outputId": "da0e1c81-e830-430e-e9e2-0d6db0232513"
      },
      "outputs": [
        {
          "name": "stdout",
          "output_type": "stream",
          "text": [
            "Average Feature Importances\n",
            "acousticness :  0.005\n",
            "danceability :  0.013\n",
            "duration :  0.001\n",
            "energy :  0.017\n",
            "instrumentalness :  -0.004\n",
            "key :  -0.004\n",
            "liveness :  -0.007\n",
            "loudness :  -0.000\n",
            "mode :  -0.001\n",
            "speechiness :  -0.007\n",
            "tempo :  -0.016\n",
            "valence :  -0.011\n",
            "artist popularity :  0.218\n"
          ]
        },
        {
          "data": {
            "image/png": "[encoded data removed]",
            "text/plain": [
              "<Figure size 864x432 with 1 Axes>"
            ]
          },
          "metadata": {
            "needs_background": "light"
          },
          "output_type": "display_data"
        }
      ],
      "source": [
        "feature_names = [\"acousticness\", \"danceability\", \"duration\", \"energy\", \n",
        "                 \"instrumentalness\", \"key\", \"liveness\", \"loudness\", \"mode\",\n",
        "                 \"speechiness\", \"tempo\", \"valence\", \"artist popularity\"]\n",
        "visualize_importances(model3, dataset_test, feature_names)"
      ]
    },
    {
      "cell_type": "markdown",
      "metadata": {
        "id": "8MnM-qDXiTS5"
      },
      "source": [
        "As expected, the artist's popularity is the most heavily correlated parameter, 10x more than audio features. "
      ]
    },
    {
      "cell_type": "markdown",
      "metadata": {
        "id": "gixcMJNLGegs"
      },
      "source": [
        "## Would using both year and artist improve this further?"
      ]
    },
    {
      "cell_type": "markdown",
      "metadata": {
        "id": "E2mDDU41PmMk"
      },
      "source": [
        "While the results obtained above are already great, this is a natural question to ask!"
      ]
    },
    {
      "cell_type": "code",
      "execution_count": 9,
      "metadata": {
        "colab": {
          "base_uri": "https://localhost:8080/"
        },
        "id": "kVveM9ptGjT9",
        "outputId": "bea4d555-9f73-487d-9954-e3d0f23baa1b"
      },
      "outputs": [
        {
          "name": "stdout",
          "output_type": "stream",
          "text": [
            "Loading and preprocessing dataset...\n",
            "Retrieved year data for 34.72382455927298 % of the training dataset, and 42.012753433616744 % of the test dataset\n",
            "Tracks of the test set with artist unknown: 438 of 12232\n",
            "Dataset loading and preprocessing complete!\n",
            "Execution time:  48.397501707077026 s\n"
          ]
        }
      ],
      "source": [
        "artist_popularities = None\n",
        "\n",
        "class SpotifyDatasetWithArtistAndYear(SpotifyDatasetWithYear):\n",
        "  def __init__(self, audio_features, is_train):\n",
        "\n",
        "    audio_features = self.add_year(audio_features)\n",
        "    self.years_found = 0\n",
        "\n",
        "    # If this is the training dataset, compute artist popularities and store it\n",
        "    # in the global variable. Otherwise, retrieve that global variable to merge \n",
        "    # it with our audio features.\n",
        "    global artist_popularities\n",
        "    if is_train:\n",
        "      artist_popularities = audio_features[[\"artist_name\", \"popularity\"]].groupby(\"artist_name\").mean()\n",
        "\n",
        "    audio_features = audio_features.merge(\n",
        "      artist_popularities, \n",
        "      left_on=\"artist_name\", \n",
        "      right_on=\"artist_name\", \n",
        "      how=\"left\",\n",
        "      suffixes=(\"\", \"_artist\")\n",
        "    )\n",
        "\n",
        "    self.dataset = []\n",
        "    self.tracks_with_unknown_artist = 0\n",
        "\n",
        "    for index, row in audio_features.iterrows():\n",
        "      self.dataset.append(self.preprocess(row))\n",
        "\n",
        "  def preprocess(self, entry):\n",
        "    [input, output] = super().preprocess(entry)\n",
        "\n",
        "    if not isnan(entry['popularity_artist']):\n",
        "      input.append(entry['popularity_artist'] / 100)\n",
        "    else:\n",
        "      # Why 0?\n",
        "      # If an artist is unknown in the training set, we could expect them to be\n",
        "      # less popular... \n",
        "      input.append(0)\n",
        "      self.tracks_with_unknown_artist+=1\n",
        "\n",
        "    return [torch.Tensor(input), torch.Tensor(output), entry[\"artist_name\"]]\n",
        "\n",
        "  def __getitem__(self, index):\n",
        "    return self.dataset[index]\n",
        "\n",
        "  def __len__(self):\n",
        "    return len(self.dataset)\n",
        "\n",
        "print(\"Loading and preprocessing dataset...\")\n",
        "start = time.time()\n",
        "\n",
        "audio_features = load_csv()\n",
        "\n",
        "# Do the train-test split using pandas\n",
        "# We have to do it that way to be able to use pandas powerful features to\n",
        "# compute artist's mean popularity in the training dataset\n",
        "audio_features_train = audio_features.sample(frac=0.8)\n",
        "audio_features_test = audio_features.drop(audio_features_train.index)\n",
        "\n",
        "dataset_train = SpotifyDatasetWithArtistAndYear(audio_features_train, True)\n",
        "dataset_test = SpotifyDatasetWithArtistAndYear(audio_features_test, False)\n",
        "\n",
        "print(\"Retrieved year data for\", dataset_train.years_found / len(dataset_train) * 100,\n",
        "      \"% of the training dataset, and\", dataset_test.years_found / len(dataset_test) * 100,\n",
        "      \"% of the test dataset\")\n",
        "\n",
        "print(\"Tracks of the test set with artist unknown:\", \n",
        "  dataset_test.tracks_with_unknown_artist, \"of\", len(dataset_test))\n",
        "\n",
        "print(\"Dataset loading and preprocessing complete!\")\n",
        "print(\"Execution time: \", time.time() - start, \"s\")"
      ]
    },
    {
      "cell_type": "code",
      "execution_count": 10,
      "metadata": {
        "colab": {
          "base_uri": "https://localhost:8080/"
        },
        "id": "flW9nBUhHqct",
        "outputId": "bb6db530-402e-418c-d130-906383d6bcff"
      },
      "outputs": [
        {
          "name": "stdout",
          "output_type": "stream",
          "text": [
            "Starting training...\n",
            "Training: epoch  1 / 10 : loss= 0.18818416545882036\n",
            "Training: epoch  2 / 10 : loss= 0.17631355855908648\n",
            "Training: epoch  3 / 10 : loss= 0.14655721760647208\n",
            "Training: epoch  4 / 10 : loss= 0.16368080196754092\n",
            "Training: epoch  5 / 10 : loss= 0.13126815460305075\n",
            "Training: epoch  6 / 10 : loss= 0.11080449334618238\n",
            "Training: epoch  7 / 10 : loss= 0.10236072472311483\n",
            "Training: epoch  8 / 10 : loss= 0.08858015004815942\n",
            "Training: epoch  9 / 10 : loss= 0.08913460518940625\n",
            "Training: epoch  10 / 10 : loss= 0.1292041890059825\n",
            "Training complete!\n",
            "Training time: 27.284608840942383\n",
            "Starting test phase...\n",
            "Test results:\n",
            "Average RMSE loss:  0.11774557171154766\n",
            "Testing complete!\n",
            "Test time: 0.09087848663330078\n"
          ]
        }
      ],
      "source": [
        "model4 = train_network(dataset_train, dataset_test, 14)"
      ]
    },
    {
      "cell_type": "markdown",
      "metadata": {
        "id": "qo7GHHgOH4GO"
      },
      "source": [
        "It appears that using both year and artist does not lead to any improvement compared to only using artist. We couldn't have expected much from this anyway, as the improvement was small when adding just the year, and that we already achieved great results with just the artist information."
      ]
    },
    {
      "cell_type": "markdown",
      "metadata": {
        "id": "6BD2psxQj7Ni"
      },
      "source": [
        "## A few examples"
      ]
    },
    {
      "cell_type": "code",
      "execution_count": null,
      "metadata": {
        "colab": {
          "base_uri": "https://localhost:8080/"
        },
        "id": "zSY65oyXj-qM",
        "outputId": "4c62404a-33be-4e65-bd33-7eb4282746b7"
      },
      "outputs": [
        {
          "name": "stdout",
          "output_type": "stream",
          "text": [
            "Input 10416\n",
            "Expected: 57.999998331069946\n",
            "Predicted: 32.72614777088165\n",
            "Error: 25.273850560188293\n",
            "\n",
            "Input 6161\n",
            "Expected: 0.0\n",
            "Predicted: 6.9739095866680145\n",
            "Error: 6.9739095866680145\n",
            "\n",
            "Input 5216\n",
            "Expected: 33.000001311302185\n",
            "Predicted: 15.847137570381165\n",
            "Error: 17.15286374092102\n",
            "\n",
            "Input 10875\n",
            "Expected: 70.99999785423279\n",
            "Predicted: 64.03908133506775\n",
            "Error: 6.960916519165039\n",
            "\n",
            "Input 9471\n",
            "Expected: 3.999999910593033\n",
            "Predicted: 9.040670841932297\n",
            "Error: 5.040670931339264\n",
            "\n"
          ]
        }
      ],
      "source": [
        "NB_EXAMPLES = 5\n",
        "for i in range(NB_EXAMPLES):\n",
        "  index = random.randint(0, len(dataset_test)-1)\n",
        "  [input, output, _] = dataset_test.__getitem__(index)\n",
        "  pred = model(input)\n",
        "  print(\"Input\", index)\n",
        "  print(\"Expected:\", output.item()*100)\n",
        "  print(\"Predicted:\", pred.item()*100)\n",
        "  print(\"Error:\", abs(output.item()-pred.item())*100)\n",
        "  print()"
      ]
    }
  ],
  "metadata": {
    "colab": {
      "collapsed_sections": [
        "kh3fFDrXeJaz",
        "6BD2psxQj7Ni"
      ],
      "name": "spotify-popularity-prediction.ipynb",
      "provenance": []
    },
    "kernelspec": {
      "display_name": "Python 3",
      "name": "python3"
    },
    "language_info": {
      "name": "python"
    }
  },
  "nbformat": 4,
  "nbformat_minor": 0
}
